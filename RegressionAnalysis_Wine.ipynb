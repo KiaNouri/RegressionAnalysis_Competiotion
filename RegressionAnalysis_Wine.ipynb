{
  "cells": [
    {
      "cell_type": "code",
      "execution_count": 53,
      "metadata": {
        "colab": {
          "base_uri": "https://localhost:8080/"
        },
        "id": "1PHEqcN8cPzu",
        "outputId": "d69d27eb-69a9-4a2e-fd10-120c5d679fc7"
      },
      "outputs": [
        {
          "output_type": "stream",
          "name": "stdout",
          "text": [
            "Requirement already satisfied: catboost in /usr/local/lib/python3.10/dist-packages (1.2.5)\n",
            "Requirement already satisfied: graphviz in /usr/local/lib/python3.10/dist-packages (from catboost) (0.20.3)\n",
            "Requirement already satisfied: matplotlib in /usr/local/lib/python3.10/dist-packages (from catboost) (3.7.1)\n",
            "Requirement already satisfied: numpy>=1.16.0 in /usr/local/lib/python3.10/dist-packages (from catboost) (1.26.4)\n",
            "Requirement already satisfied: pandas>=0.24 in /usr/local/lib/python3.10/dist-packages (from catboost) (2.1.4)\n",
            "Requirement already satisfied: scipy in /usr/local/lib/python3.10/dist-packages (from catboost) (1.13.1)\n",
            "Requirement already satisfied: plotly in /usr/local/lib/python3.10/dist-packages (from catboost) (5.15.0)\n",
            "Requirement already satisfied: six in /usr/local/lib/python3.10/dist-packages (from catboost) (1.16.0)\n",
            "Requirement already satisfied: python-dateutil>=2.8.2 in /usr/local/lib/python3.10/dist-packages (from pandas>=0.24->catboost) (2.8.2)\n",
            "Requirement already satisfied: pytz>=2020.1 in /usr/local/lib/python3.10/dist-packages (from pandas>=0.24->catboost) (2024.1)\n",
            "Requirement already satisfied: tzdata>=2022.1 in /usr/local/lib/python3.10/dist-packages (from pandas>=0.24->catboost) (2024.1)\n",
            "Requirement already satisfied: contourpy>=1.0.1 in /usr/local/lib/python3.10/dist-packages (from matplotlib->catboost) (1.3.0)\n",
            "Requirement already satisfied: cycler>=0.10 in /usr/local/lib/python3.10/dist-packages (from matplotlib->catboost) (0.12.1)\n",
            "Requirement already satisfied: fonttools>=4.22.0 in /usr/local/lib/python3.10/dist-packages (from matplotlib->catboost) (4.53.1)\n",
            "Requirement already satisfied: kiwisolver>=1.0.1 in /usr/local/lib/python3.10/dist-packages (from matplotlib->catboost) (1.4.5)\n",
            "Requirement already satisfied: packaging>=20.0 in /usr/local/lib/python3.10/dist-packages (from matplotlib->catboost) (24.1)\n",
            "Requirement already satisfied: pillow>=6.2.0 in /usr/local/lib/python3.10/dist-packages (from matplotlib->catboost) (9.4.0)\n",
            "Requirement already satisfied: pyparsing>=2.3.1 in /usr/local/lib/python3.10/dist-packages (from matplotlib->catboost) (3.1.4)\n",
            "Requirement already satisfied: tenacity>=6.2.0 in /usr/local/lib/python3.10/dist-packages (from plotly->catboost) (9.0.0)\n"
          ]
        }
      ],
      "source": [
        "!pip install catboost"
      ]
    },
    {
      "cell_type": "code",
      "execution_count": 54,
      "metadata": {
        "id": "ibO-VW85OGzM"
      },
      "outputs": [],
      "source": [
        "#!pip install -U scikit-learn\n",
        "\n",
        "\n",
        "import pandas as pd\n",
        "import numpy as np\n",
        "import matplotlib.pyplot as plt\n",
        "import seaborn as sns\n",
        "\n",
        "\n",
        "from sklearn.datasets import load_wine\n",
        "from sklearn.preprocessing import StandardScaler, PolynomialFeatures, MinMaxScaler\n",
        "from sklearn.model_selection import train_test_split, RandomizedSearchCV\n",
        "from sklearn.feature_selection import mutual_info_regression\n",
        "from sklearn.neighbors import KNeighborsRegressor\n",
        "from sklearn.tree import DecisionTreeRegressor\n",
        "from sklearn.ensemble import RandomForestRegressor, GradientBoostingRegressor\n",
        "from xgboost import XGBRegressor\n",
        "from catboost import CatBoostRegressor\n",
        "from sklearn.linear_model import LinearRegression, Ridge, Lasso\n",
        "from sklearn.metrics import r2_score, mean_squared_error\n",
        "from scipy.stats import randint\n",
        "\n",
        "\n"
      ]
    },
    {
      "cell_type": "code",
      "execution_count": 77,
      "metadata": {
        "id": "J7wJMHy3TiI3"
      },
      "outputs": [],
      "source": [
        "data = load_wine().data\n",
        "df = pd.DataFrame(data, columns=load_wine().feature_names)"
      ]
    },
    {
      "cell_type": "code",
      "execution_count": 78,
      "metadata": {
        "id": "MN19W4w1UWKQ"
      },
      "outputs": [],
      "source": [
        "X = df.drop('alcohol', axis=1)\n",
        "y = df['alcohol']"
      ]
    },
    {
      "cell_type": "code",
      "execution_count": 5,
      "metadata": {
        "colab": {
          "base_uri": "https://localhost:8080/"
        },
        "id": "y9g6fD-7U08w",
        "outputId": "27d35e75-5e7d-481d-bc90-530681503222"
      },
      "outputs": [
        {
          "output_type": "execute_result",
          "data": {
            "text/plain": [
              "(178, 12)"
            ]
          },
          "metadata": {},
          "execution_count": 5
        }
      ],
      "source": [
        "X.shape"
      ]
    },
    {
      "cell_type": "code",
      "execution_count": 6,
      "metadata": {
        "colab": {
          "base_uri": "https://localhost:8080/"
        },
        "id": "lstnApN7Vhfm",
        "outputId": "d4cbafe4-75f8-499f-ccb1-7990f668ad85"
      },
      "outputs": [
        {
          "output_type": "execute_result",
          "data": {
            "text/plain": [
              "0"
            ]
          },
          "metadata": {},
          "execution_count": 6
        }
      ],
      "source": [
        "# check duplicates\n",
        "X.duplicated().sum()"
      ]
    },
    {
      "cell_type": "code",
      "execution_count": 70,
      "metadata": {
        "colab": {
          "base_uri": "https://localhost:8080/"
        },
        "id": "sSQ0G5AkVsAv",
        "outputId": "f58cf42d-12f8-4f67-b89a-245cfa96848a"
      },
      "outputs": [
        {
          "output_type": "execute_result",
          "data": {
            "text/plain": [
              "0"
            ]
          },
          "metadata": {},
          "execution_count": 70
        }
      ],
      "source": [
        "# check null values\n",
        "X.isna().sum().sum()"
      ]
    },
    {
      "cell_type": "code",
      "execution_count": null,
      "metadata": {
        "id": "8d2uGZkQWb-3"
      },
      "outputs": [],
      "source": [
        "#EDA\n",
        "X.hist(bins=20,figsize=(10,10))"
      ]
    },
    {
      "cell_type": "code",
      "execution_count": 79,
      "metadata": {
        "id": "BC0eCwaQj90G"
      },
      "outputs": [],
      "source": [
        "# train test split\n",
        "X_train, X_test, y_train, y_test = train_test_split(X,\n",
        "                                                    y,\n",
        "                                                    shuffle=True,\n",
        "                                                    test_size=0.2,\n",
        "                                                    random_state=2024)\n"
      ]
    },
    {
      "cell_type": "code",
      "execution_count": 85,
      "metadata": {
        "id": "B42dqQuCj_pt"
      },
      "outputs": [],
      "source": [
        "# Scale features\n",
        "mms=MinMaxScaler()\n",
        "mms.fit(X_train)\n",
        "X_train=mms.transform(X_train)\n",
        "X_test=mms.transform(X_test)"
      ]
    },
    {
      "cell_type": "code",
      "execution_count": 144,
      "metadata": {
        "id": "a8wqelpoUber"
      },
      "outputs": [],
      "source": [
        "#StandardScaler\n",
        "scaler = StandardScaler()\n",
        "scaler.fit(X_train)\n",
        "X_train = scaler.transform(X_train)\n",
        "X_test = scaler.transform(X_test)\n"
      ]
    },
    {
      "cell_type": "code",
      "execution_count": 89,
      "metadata": {
        "colab": {
          "base_uri": "https://localhost:8080/"
        },
        "id": "uOkZXOQ6Io2K",
        "outputId": "8b2ea63a-7bf7-4d45-fa95-c6b662104ee4"
      },
      "outputs": [
        {
          "output_type": "stream",
          "name": "stdout",
          "text": [
            "neighbors 1:  r2 = 0.5425517896232803\n",
            "neighbors 2:  r2 = 0.6434065131709035\n",
            "neighbors 3:  r2 = 0.6270272347495816\n",
            "neighbors 4:  r2 = 0.6722796866735656\n",
            "neighbors 5:  r2 = 0.6582367052513836\n",
            "neighbors 6:  r2 = 0.673223529806327\n",
            "neighbors 7:  r2 = 0.6906706148432185\n",
            "neighbors 8:  r2 = 0.6759758874053867\n",
            "neighbors 9:  r2 = 0.6535494468716617\n"
          ]
        }
      ],
      "source": [
        "## KNN regression\n",
        "n_neighbors = np.arange(1,10)\n",
        "for n in n_neighbors:\n",
        "  knnr = KNeighborsRegressor(n_neighbors=n)\n",
        "  knnr.fit(X_train, y_train)\n",
        "  y_pred = knnr.predict(X_test)\n",
        "  r2_score(y_test, y_pred)\n",
        "  print(f'neighbors {n}: ', f'r2 = {r2_score(y_test, y_pred)}')#The best result: neighbors 7:  r2 = 0.6906706148432185"
      ]
    },
    {
      "cell_type": "code",
      "execution_count": null,
      "metadata": {
        "id": "8uJMh00XBItz"
      },
      "outputs": [],
      "source": []
    },
    {
      "cell_type": "code",
      "execution_count": 120,
      "metadata": {
        "id": "RrJI0kUuHCJn"
      },
      "outputs": [],
      "source": [
        "dist = dict(metric=['euclidean', 'manhattan'],\n",
        "            weights=['uniform', 'distance'],\n",
        "            n_neighbors=randint(1,20))\n",
        "random_search = RandomizedSearchCV(\n",
        "    knnr,\n",
        "    param_distributions=dist,\n",
        "    n_iter=50,\n",
        "    cv=5,\n",
        "    random_state=32)"
      ]
    },
    {
      "cell_type": "code",
      "execution_count": 121,
      "metadata": {
        "colab": {
          "base_uri": "https://localhost:8080/"
        },
        "id": "IcbAPpESHd1u",
        "outputId": "ed1960e2-6358-4409-a85a-98e50217868f"
      },
      "outputs": [
        {
          "output_type": "execute_result",
          "data": {
            "text/plain": [
              "{'metric': 'manhattan', 'n_neighbors': 17, 'weights': 'distance'}"
            ]
          },
          "metadata": {},
          "execution_count": 121
        }
      ],
      "source": [
        "random_search.fit(X_train, y_train)\n",
        "random_search.best_params_"
      ]
    },
    {
      "cell_type": "code",
      "execution_count": 122,
      "metadata": {
        "colab": {
          "base_uri": "https://localhost:8080/"
        },
        "id": "4CrCP6utHiZx",
        "outputId": "e7e00970-b3d3-48e9-af85-53b2c9d72f8e"
      },
      "outputs": [
        {
          "output_type": "execute_result",
          "data": {
            "text/plain": [
              "0.7078957364874698"
            ]
          },
          "metadata": {},
          "execution_count": 122
        }
      ],
      "source": [
        "y_pred = random_search.best_estimator_.predict(X_test)\n",
        "r2_score(y_test, y_pred)"
      ]
    },
    {
      "cell_type": "code",
      "execution_count": 123,
      "metadata": {
        "id": "oActIwNyLQhr"
      },
      "outputs": [],
      "source": [
        "# Decision Tree\n",
        "dt = DecisionTreeRegressor(random_state=42)"
      ]
    },
    {
      "cell_type": "code",
      "execution_count": 124,
      "metadata": {
        "id": "Yr50GeDnYPp5"
      },
      "outputs": [],
      "source": [
        "dt_params = {\n",
        "    'max_depth': randint(1, 20),\n",
        "    'min_samples_split': randint(2, 10),\n",
        "    'min_samples_leaf': randint(1, 10)\n",
        "}"
      ]
    },
    {
      "cell_type": "code",
      "execution_count": 131,
      "metadata": {
        "colab": {
          "base_uri": "https://localhost:8080/"
        },
        "id": "6uezC-yrYTrJ",
        "outputId": "4b2bd6a0-9a2c-4af1-bf29-0f0307d1da23"
      },
      "outputs": [
        {
          "output_type": "execute_result",
          "data": {
            "text/plain": [
              "{'max_depth': 2, 'min_samples_leaf': 9, 'min_samples_split': 6}"
            ]
          },
          "metadata": {},
          "execution_count": 131
        }
      ],
      "source": [
        "dt_random_search = RandomizedSearchCV(dt, param_distributions=dt_params, n_iter=50, cv=10, random_state=42)\n",
        "dt_random_search.fit(X_train, y_train)\n",
        "dt_random_search.best_params_"
      ]
    },
    {
      "cell_type": "code",
      "execution_count": 132,
      "metadata": {
        "id": "XGjW6v05Y2JJ"
      },
      "outputs": [],
      "source": [
        "dt_y_pred = dt_random_search.best_estimator_.predict(X_test)"
      ]
    },
    {
      "cell_type": "code",
      "execution_count": 133,
      "metadata": {
        "colab": {
          "base_uri": "https://localhost:8080/"
        },
        "id": "HFtdYTdWLZ8D",
        "outputId": "6802234d-1382-4b02-d169-33a852589bca"
      },
      "outputs": [
        {
          "output_type": "execute_result",
          "data": {
            "text/plain": [
              "0.4750595011023867"
            ]
          },
          "metadata": {},
          "execution_count": 133
        }
      ],
      "source": [
        "r2_score(y_test, dt_y_pred)"
      ]
    },
    {
      "cell_type": "code",
      "execution_count": 134,
      "metadata": {
        "id": "s4RvoRInN71M"
      },
      "outputs": [],
      "source": [
        "# random forest\n",
        "rfr = RandomForestRegressor (random_state=42)"
      ]
    },
    {
      "cell_type": "code",
      "source": [
        "rf_params = {\n",
        "    'n_estimators': [200, 300, 800],\n",
        "    'max_depth': [10, 20, None],\n",
        "    'min_samples_split': randint(2, 10),\n",
        "    'min_samples_leaf': randint(1, 10)\n",
        "}"
      ],
      "metadata": {
        "id": "0WH66GPK2-Zz"
      },
      "execution_count": 29,
      "outputs": []
    },
    {
      "cell_type": "code",
      "source": [
        "rf_random_search = RandomizedSearchCV(rfr, param_distributions=rf_params, n_iter=20, cv=10,  verbose=0,random_state=42)\n",
        "rf_random_search.fit(X_train, y_train)\n",
        "rf_random_search.best_params_"
      ],
      "metadata": {
        "colab": {
          "base_uri": "https://localhost:8080/"
        },
        "id": "JgGvBQia3jd-",
        "outputId": "978d0d02-45e4-4afe-e98d-6c2965358710"
      },
      "execution_count": 135,
      "outputs": [
        {
          "output_type": "execute_result",
          "data": {
            "text/plain": [
              "{'max_depth': None,\n",
              " 'min_samples_leaf': 8,\n",
              " 'min_samples_split': 6,\n",
              " 'n_estimators': 800}"
            ]
          },
          "metadata": {},
          "execution_count": 135
        }
      ]
    },
    {
      "cell_type": "code",
      "source": [
        "rf_y_pred = rf_random_search.best_estimator_.predict(X_test)"
      ],
      "metadata": {
        "id": "D5UV0NAI3Ds7"
      },
      "execution_count": 136,
      "outputs": []
    },
    {
      "cell_type": "code",
      "source": [
        "r2_score(y_test,rf_y_pred )"
      ],
      "metadata": {
        "colab": {
          "base_uri": "https://localhost:8080/"
        },
        "id": "sY-vCka94SgF",
        "outputId": "be254c85-8c7a-4b2d-abe1-cca220a4c8ea"
      },
      "execution_count": 137,
      "outputs": [
        {
          "output_type": "execute_result",
          "data": {
            "text/plain": [
              "0.6195585779588892"
            ]
          },
          "metadata": {},
          "execution_count": 137
        }
      ]
    },
    {
      "cell_type": "code",
      "execution_count": 145,
      "metadata": {
        "id": "XTzHfEQCaeEV"
      },
      "outputs": [],
      "source": [
        "# xgboost\n",
        "xgbr = XGBRegressor(n_estimator=500, learning_rate=0.1, random_state=42)\n"
      ]
    },
    {
      "cell_type": "code",
      "source": [
        "xgb_params = {\n",
        "    'n_estimators': [300, 500],\n",
        "    'learning_rate': [ 0.1, 0.3],\n",
        "    'max_depth': [3, 5, 10],\n",
        "    'subsample': [0.7, 0.8, 1.0]\n",
        "}"
      ],
      "metadata": {
        "id": "6i6jRYQRRjuu"
      },
      "execution_count": 146,
      "outputs": []
    },
    {
      "cell_type": "markdown",
      "source": [],
      "metadata": {
        "id": "PtqaD19fXX_c"
      }
    },
    {
      "cell_type": "code",
      "source": [
        "xgb_random_search = RandomizedSearchCV(xgbr, param_distributions=xgb_params, n_iter=50, cv=5, random_state=42)\n",
        "xgb_random_search.fit(X_train, y_train)\n",
        "xgb_random_search.best_params_"
      ],
      "metadata": {
        "id": "uj00zZ1pRy0X"
      },
      "execution_count": null,
      "outputs": []
    },
    {
      "cell_type": "code",
      "source": [
        "xgb_y_pred = xgb_random_search.best_estimator_.predict(X_test)"
      ],
      "metadata": {
        "id": "BixCp9itSUdx"
      },
      "execution_count": 148,
      "outputs": []
    },
    {
      "cell_type": "code",
      "execution_count": 149,
      "metadata": {
        "colab": {
          "base_uri": "https://localhost:8080/"
        },
        "id": "A6Ggwov2ajcU",
        "outputId": "5d2cafa1-fffe-44ee-d74e-d938eb351921"
      },
      "outputs": [
        {
          "output_type": "execute_result",
          "data": {
            "text/plain": [
              "0.6207184586757"
            ]
          },
          "metadata": {},
          "execution_count": 149
        }
      ],
      "source": [
        "\n",
        "r2_score(y_test,xgb_y_pred )"
      ]
    },
    {
      "cell_type": "code",
      "execution_count": 150,
      "metadata": {
        "id": "aFiXJNnwcd-8"
      },
      "outputs": [],
      "source": [
        "# catboost\n",
        "cbr = CatBoostRegressor(iterations=500, learning_rate=0.1, depth=10, verbose=1)\n",
        "# cbr.fit(X_train, y_train)"
      ]
    },
    {
      "cell_type": "code",
      "source": [
        "cat_params = {\n",
        "    'iterations': [100,300 ,500],\n",
        "    'learning_rate': [0.1],\n",
        "    'depth': [6, 10]\n",
        "}\n"
      ],
      "metadata": {
        "id": "qXb7zBluVUWY"
      },
      "execution_count": 151,
      "outputs": []
    },
    {
      "cell_type": "code",
      "source": [
        "cat_random_search = RandomizedSearchCV(cbr, param_distributions=cat_params, n_iter=50, cv=3, random_state=42)\n",
        "cat_random_search.fit(X_train, y_train)\n",
        "cat_random_search.best_params_"
      ],
      "metadata": {
        "id": "eESutanCVa6g"
      },
      "execution_count": null,
      "outputs": []
    },
    {
      "cell_type": "code",
      "source": [
        "cat_y_pred = cat_random_search.best_estimator_.predict(X_test)"
      ],
      "metadata": {
        "id": "cTF-JKXVWIQ9"
      },
      "execution_count": 153,
      "outputs": []
    },
    {
      "cell_type": "code",
      "source": [
        "r2_score(y_test,cat_y_pred )"
      ],
      "metadata": {
        "colab": {
          "base_uri": "https://localhost:8080/"
        },
        "id": "BlgNXD5jWnD3",
        "outputId": "24c339cc-cf7a-4f6a-d2a3-c8c22390e859"
      },
      "execution_count": 154,
      "outputs": [
        {
          "output_type": "execute_result",
          "data": {
            "text/plain": [
              "0.6812146353689861"
            ]
          },
          "metadata": {},
          "execution_count": 154
        }
      ]
    }
  ],
  "metadata": {
    "colab": {
      "provenance": []
    },
    "kernelspec": {
      "display_name": "Python 3",
      "name": "python3"
    },
    "language_info": {
      "name": "python"
    }
  },
  "nbformat": 4,
  "nbformat_minor": 0
}