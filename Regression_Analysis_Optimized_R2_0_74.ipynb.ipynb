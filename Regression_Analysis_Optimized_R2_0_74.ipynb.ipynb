{
  "nbformat": 4,
  "nbformat_minor": 0,
  "metadata": {
    "colab": {
      "provenance": []
    },
    "kernelspec": {
      "name": "python3",
      "display_name": "Python 3"
    },
    "language_info": {
      "name": "python"
    }
  },
  "cells": [
    {
      "cell_type": "code",
      "execution_count": 1,
      "metadata": {
        "colab": {
          "base_uri": "https://localhost:8080/"
        },
        "id": "eCF_lwTbQCSk",
        "outputId": "24e1c0c0-0b10-4344-9ac3-bdede1b81500"
      },
      "outputs": [
        {
          "output_type": "stream",
          "name": "stdout",
          "text": [
            "Improved R² Score: 0.7476545854256452\n"
          ]
        }
      ],
      "source": [
        "import pandas as pd\n",
        "from sklearn.datasets import load_wine\n",
        "from sklearn.model_selection import train_test_split, RandomizedSearchCV\n",
        "from sklearn.ensemble import RandomForestRegressor\n",
        "from sklearn.preprocessing import StandardScaler\n",
        "from sklearn.metrics import r2_score\n",
        "from scipy.stats import randint\n",
        "\n",
        "# Load the wine dataset\n",
        "data = load_wine().data\n",
        "df = pd.DataFrame(data, columns=load_wine().feature_names)\n",
        "\n",
        "# Define the features (X) and the target (y)\n",
        "X = df.drop('alcohol', axis=1)\n",
        "y = df['alcohol']\n",
        "\n",
        "# Splitting the data\n",
        "X_train, X_test, y_train, y_test = train_test_split(X, y, test_size=0.2, random_state=42)\n",
        "\n",
        "# Feature Scaling\n",
        "scaler = StandardScaler()\n",
        "X_train_scaled = scaler.fit_transform(X_train)\n",
        "X_test_scaled = scaler.transform(X_test)\n",
        "\n",
        "# Define the model and hyperparameter search space\n",
        "model = RandomForestRegressor(random_state=42)\n",
        "param_dist = {\n",
        "    'n_estimators': randint(100, 1000),\n",
        "    'max_depth': randint(3, 30),\n",
        "    'min_samples_split': randint(2, 20),\n",
        "    'min_samples_leaf': randint(1, 10)\n",
        "}\n",
        "\n",
        "# Perform randomized search with cross-validation\n",
        "random_search = RandomizedSearchCV(model, param_distributions=param_dist, n_iter=20, cv=5, random_state=42, n_jobs=-1)\n",
        "\n",
        "random_search.fit(X_train_scaled, y_train)\n",
        "\n",
        "# Get the best model and predict\n",
        "best_model = random_search.best_estimator_\n",
        "y_pred_best = best_model.predict(X_test_scaled)\n",
        "\n",
        "# Calculate the improved R² score\n",
        "r2_best = r2_score(y_test, y_pred_best)\n",
        "print(\"Improved R² Score:\", r2_best)\n"
      ]
    }
  ]
}